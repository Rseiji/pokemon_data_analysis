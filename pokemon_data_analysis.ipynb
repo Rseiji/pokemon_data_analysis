{
 "cells": [
  {
   "cell_type": "markdown",
   "id": "871ae9c5",
   "metadata": {},
   "source": [
    "# Pokemon Dataset Analysis\n",
    "\n",
    "* This notebook contains a complete dataset analysis of the pokemon dataset available on [kaggle](https://www.kaggle.com/datasets/abcsds/pokemon).\n",
    "\n",
    "* It is a personal project with the goal of practicing my Data Analysis skills in Python, by plotting different visualizations and trying to find properties and facts based on given data"
   ]
  },
  {
   "cell_type": "markdown",
   "id": "ca2c3302",
   "metadata": {},
   "source": [
    "# Setup"
   ]
  },
  {
   "cell_type": "code",
   "execution_count": 6,
   "id": "28263dd0",
   "metadata": {
    "ExecuteTime": {
     "end_time": "2022-07-24T02:40:37.898879Z",
     "start_time": "2022-07-24T02:40:37.893917Z"
    }
   },
   "outputs": [],
   "source": [
    "import pandas as pd\n",
    "from pandas_profiling import ProfileReport"
   ]
  },
  {
   "cell_type": "code",
   "execution_count": 4,
   "id": "d3a107de",
   "metadata": {
    "ExecuteTime": {
     "end_time": "2022-07-24T02:39:47.809167Z",
     "start_time": "2022-07-24T02:39:47.790224Z"
    }
   },
   "outputs": [],
   "source": [
    "dataset = pd.read_csv('data/Pokemon.csv')"
   ]
  },
  {
   "cell_type": "code",
   "execution_count": 15,
   "id": "caacc7e6",
   "metadata": {
    "ExecuteTime": {
     "end_time": "2022-07-24T03:09:28.007627Z",
     "start_time": "2022-07-24T03:09:27.979208Z"
    }
   },
   "outputs": [
    {
     "data": {
      "text/html": [
       "<div>\n",
       "<style scoped>\n",
       "    .dataframe tbody tr th:only-of-type {\n",
       "        vertical-align: middle;\n",
       "    }\n",
       "\n",
       "    .dataframe tbody tr th {\n",
       "        vertical-align: top;\n",
       "    }\n",
       "\n",
       "    .dataframe thead th {\n",
       "        text-align: right;\n",
       "    }\n",
       "</style>\n",
       "<table border=\"1\" class=\"dataframe\">\n",
       "  <thead>\n",
       "    <tr style=\"text-align: right;\">\n",
       "      <th></th>\n",
       "      <th>#</th>\n",
       "      <th>Name</th>\n",
       "      <th>Type 1</th>\n",
       "      <th>Type 2</th>\n",
       "      <th>Total</th>\n",
       "      <th>HP</th>\n",
       "      <th>Attack</th>\n",
       "      <th>Defense</th>\n",
       "      <th>Sp. Atk</th>\n",
       "      <th>Sp. Def</th>\n",
       "      <th>Speed</th>\n",
       "      <th>Generation</th>\n",
       "      <th>Legendary</th>\n",
       "    </tr>\n",
       "  </thead>\n",
       "  <tbody>\n",
       "    <tr>\n",
       "      <th>0</th>\n",
       "      <td>1</td>\n",
       "      <td>Bulbasaur</td>\n",
       "      <td>Grass</td>\n",
       "      <td>Poison</td>\n",
       "      <td>318</td>\n",
       "      <td>45</td>\n",
       "      <td>49</td>\n",
       "      <td>49</td>\n",
       "      <td>65</td>\n",
       "      <td>65</td>\n",
       "      <td>45</td>\n",
       "      <td>1</td>\n",
       "      <td>False</td>\n",
       "    </tr>\n",
       "    <tr>\n",
       "      <th>1</th>\n",
       "      <td>2</td>\n",
       "      <td>Ivysaur</td>\n",
       "      <td>Grass</td>\n",
       "      <td>Poison</td>\n",
       "      <td>405</td>\n",
       "      <td>60</td>\n",
       "      <td>62</td>\n",
       "      <td>63</td>\n",
       "      <td>80</td>\n",
       "      <td>80</td>\n",
       "      <td>60</td>\n",
       "      <td>1</td>\n",
       "      <td>False</td>\n",
       "    </tr>\n",
       "    <tr>\n",
       "      <th>2</th>\n",
       "      <td>3</td>\n",
       "      <td>Venusaur</td>\n",
       "      <td>Grass</td>\n",
       "      <td>Poison</td>\n",
       "      <td>525</td>\n",
       "      <td>80</td>\n",
       "      <td>82</td>\n",
       "      <td>83</td>\n",
       "      <td>100</td>\n",
       "      <td>100</td>\n",
       "      <td>80</td>\n",
       "      <td>1</td>\n",
       "      <td>False</td>\n",
       "    </tr>\n",
       "    <tr>\n",
       "      <th>3</th>\n",
       "      <td>3</td>\n",
       "      <td>VenusaurMega Venusaur</td>\n",
       "      <td>Grass</td>\n",
       "      <td>Poison</td>\n",
       "      <td>625</td>\n",
       "      <td>80</td>\n",
       "      <td>100</td>\n",
       "      <td>123</td>\n",
       "      <td>122</td>\n",
       "      <td>120</td>\n",
       "      <td>80</td>\n",
       "      <td>1</td>\n",
       "      <td>False</td>\n",
       "    </tr>\n",
       "    <tr>\n",
       "      <th>4</th>\n",
       "      <td>4</td>\n",
       "      <td>Charmander</td>\n",
       "      <td>Fire</td>\n",
       "      <td>NaN</td>\n",
       "      <td>309</td>\n",
       "      <td>39</td>\n",
       "      <td>52</td>\n",
       "      <td>43</td>\n",
       "      <td>60</td>\n",
       "      <td>50</td>\n",
       "      <td>65</td>\n",
       "      <td>1</td>\n",
       "      <td>False</td>\n",
       "    </tr>\n",
       "  </tbody>\n",
       "</table>\n",
       "</div>"
      ],
      "text/plain": [
       "   #                   Name Type 1  Type 2  Total  HP  Attack  Defense  \\\n",
       "0  1              Bulbasaur  Grass  Poison    318  45      49       49   \n",
       "1  2                Ivysaur  Grass  Poison    405  60      62       63   \n",
       "2  3               Venusaur  Grass  Poison    525  80      82       83   \n",
       "3  3  VenusaurMega Venusaur  Grass  Poison    625  80     100      123   \n",
       "4  4             Charmander   Fire     NaN    309  39      52       43   \n",
       "\n",
       "   Sp. Atk  Sp. Def  Speed  Generation  Legendary  \n",
       "0       65       65     45           1      False  \n",
       "1       80       80     60           1      False  \n",
       "2      100      100     80           1      False  \n",
       "3      122      120     80           1      False  \n",
       "4       60       50     65           1      False  "
      ]
     },
     "execution_count": 15,
     "metadata": {},
     "output_type": "execute_result"
    }
   ],
   "source": [
    "dataset.head()"
   ]
  },
  {
   "cell_type": "markdown",
   "id": "b1cc0609",
   "metadata": {},
   "source": [
    "**Data Questions**\n",
    "\n",
    "* How many pokemons do we have per type\n",
    "* Which are the best pokemon per type per attribute?\n",
    "* Is there stronger generations or the general attributes difference is not meaningful?\n",
    "    * obs: chance for hypothesis testing\n",
    "* Are two types pokemon better than one type pokemons?\n",
    "* Can we predict a legendary pokemon by its attributes?\n",
    "* What is the best attribute to optimize? Attack? Defense? Speed?\n",
    "* How's type distribution per generation?\n",
    "* Is mega evolution meaningful for the pokemon's attributes or it has only slight changes?\n",
    "* Is there something to extract over a graph of pokemon evolutions & other relations? (and first, how can I get this graph?)\n",
    "\n",
    "**Technologies to test**\n",
    "* seaborn new plots\n",
    "* profilereport\n",
    "* Hypothesis testing"
   ]
  },
  {
   "cell_type": "markdown",
   "id": "0ccbae23",
   "metadata": {},
   "source": [
    "# Dataset Analysis"
   ]
  },
  {
   "cell_type": "markdown",
   "id": "5fe07fe1",
   "metadata": {},
   "source": [
    "## Automated analysis using `ProfileReport`"
   ]
  },
  {
   "cell_type": "code",
   "execution_count": 14,
   "id": "202dcbe7",
   "metadata": {
    "ExecuteTime": {
     "end_time": "2022-07-24T03:01:44.803257Z",
     "start_time": "2022-07-24T03:01:24.536311Z"
    }
   },
   "outputs": [
    {
     "data": {
      "application/vnd.jupyter.widget-view+json": {
       "model_id": "0272a7ed602043c39fca52afff8ed1ae",
       "version_major": 2,
       "version_minor": 0
      },
      "text/plain": [
       "Summarize dataset:   0%|          | 0/5 [00:00<?, ?it/s]"
      ]
     },
     "metadata": {},
     "output_type": "display_data"
    },
    {
     "data": {
      "application/vnd.jupyter.widget-view+json": {
       "model_id": "26991eb44b324e078fdc18c27319d44c",
       "version_major": 2,
       "version_minor": 0
      },
      "text/plain": [
       "Generate report structure:   0%|          | 0/1 [00:00<?, ?it/s]"
      ]
     },
     "metadata": {},
     "output_type": "display_data"
    },
    {
     "data": {
      "application/vnd.jupyter.widget-view+json": {
       "model_id": "249f0288f4264a1aa49a1097cd1c30d2",
       "version_major": 2,
       "version_minor": 0
      },
      "text/plain": [
       "Render HTML:   0%|          | 0/1 [00:00<?, ?it/s]"
      ]
     },
     "metadata": {},
     "output_type": "display_data"
    },
    {
     "data": {
      "application/vnd.jupyter.widget-view+json": {
       "model_id": "b5881001a132442883171dc9c2254b0b",
       "version_major": 2,
       "version_minor": 0
      },
      "text/plain": [
       "Export report to file:   0%|          | 0/1 [00:00<?, ?it/s]"
      ]
     },
     "metadata": {},
     "output_type": "display_data"
    }
   ],
   "source": [
    "# I am not opening it inside this notebook because of the size of the html file.\n",
    "# It is better to study it separately, with the help of a web browser\n",
    "pokemon_data_profile = ProfileReport(dataset.drop(columns=['#', 'Name']), title='Pokemon Data Profiling')\n",
    "pokemon_data_profile.to_file('pokemon_data_profile.html')"
   ]
  },
  {
   "cell_type": "markdown",
   "id": "eb4475f1",
   "metadata": {},
   "source": [
    "**Highlights**\n",
    "\n",
    "* The biggest pokemon type is **water (14%)**, followed by **normal (12.2%)**. The third placed, **grass**, has only **8.8%** of the base\n",
    "* The vast majority of the pokemons **doesn't have a second type (48.2%)**. The most popular second type is **flying (12.2%)**. Other second types are occasional, with second greatest second type being **ground**, with only **4.4%** occurrence\n",
    "* About the correlations, the Pokémon's attributes seem to have a linear relation with each other. Th scatterplot analysis shows that, even though there is a high dispersion on data, higher attributes of one variable generally comes with higher attributes in other variables. The confusion matrix also reasures this fact by not having any negative correlation for any of the combinations.\n",
    "* Also, every variable is highly correlated with `Total`, which means that stronger pokemons have higher values of all attributes. This is expected given the game's mechanics, where stronger pokemons and evolutions gain more and more attribute points"
   ]
  },
  {
   "cell_type": "code",
   "execution_count": null,
   "id": "90b65666",
   "metadata": {},
   "outputs": [],
   "source": [
    "# kurtosis\n",
    "# Coefficient of variation (CV)\n",
    "# MAD\n",
    "# skewness\n",
    "# monotonicity"
   ]
  }
 ],
 "metadata": {
  "hide_input": false,
  "kernelspec": {
   "display_name": "Python 3 (ipykernel)",
   "language": "python",
   "name": "python3"
  },
  "language_info": {
   "codemirror_mode": {
    "name": "ipython",
    "version": 3
   },
   "file_extension": ".py",
   "mimetype": "text/x-python",
   "name": "python",
   "nbconvert_exporter": "python",
   "pygments_lexer": "ipython3",
   "version": "3.8.10"
  },
  "toc": {
   "base_numbering": 1,
   "nav_menu": {},
   "number_sections": true,
   "sideBar": true,
   "skip_h1_title": false,
   "title_cell": "Table of Contents",
   "title_sidebar": "Contents",
   "toc_cell": false,
   "toc_position": {},
   "toc_section_display": true,
   "toc_window_display": false
  }
 },
 "nbformat": 4,
 "nbformat_minor": 5
}
